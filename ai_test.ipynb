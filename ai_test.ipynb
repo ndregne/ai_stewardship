{
 "cells": [
  {
   "cell_type": "code",
   "execution_count": 14,
   "metadata": {},
   "outputs": [],
   "source": [
    "from langchain_openai import ChatOpenAI\n",
    "from langchain.prompts.chat import ChatPromptTemplate\n",
    "from dotenv import load_dotenv\n",
    "import langchain as lc\n",
    "import os\n",
    "import ai_testfunctions as ai_tf\n",
    "\n",
    "load_dotenv()\n",
    "api_key = os.getenv(\"OPENAI_API_KEY\")\n",
    "chat_model = ChatOpenAI(openai_api_key = api_key)"
   ]
  },
  {
   "cell_type": "code",
   "execution_count": 26,
   "metadata": {},
   "outputs": [
    {
     "name": "stdout",
     "output_type": "stream",
     "text": [
      "content='Main Idea\\tDescription\\nInitial Purpose of the Data Steward (Roles & Dynamics)\\tData stewards are responsible for ensuring compliance with data quality and implementing strategic data governance requirements from a technical perspective.\\nUnderstanding the Data Steward Role\\tData stewards enable accessibility, coherency, and trust in data and its derived models when done well, but data assets become murky, siloed, and untrusted when done poorly or ignored.\\nCommon Shortcomings of the Data Steward\\tChallenges include improperly defining stewardship, maximalist goals without authority, and improper tools and processes in data democratization efforts.\\nKeys to Successful Execution\\tSuccessful execution involves understanding the people who consume and build data, creating processes that incorporate enforceable governance practices, and finding the right tools to minimize additional work.\\nUsing AI Capabilities to Scale Data Stewardship for the Future\\tAI capabilities can automate governance and quality control tasks, removing excessive documentation work and providing quantifiable progress, compliance, and priority.\\nLeveraging AI to Reduce the Labor Intensity\\tAI tools can consume code documentation, ERD diagrams, and input templates to extract intelligence and place it into standard documentation forms, reducing labor intensity.\\nBuilding an AI-Data Steward Framework\\tData stewardship frameworks must capture and organize high-quality data and metadata to ensure responsible data usage and reach scale, including monitoring data delivery, implementing controls, and ensuring appropriate access and usage.'\n"
     ]
    }
   ],
   "source": [
    "dir = \"C:/Users/nicho/Downloads/Activating data quality and stewardship in the age (1) (1).pptx\"\n",
    "ppt_output = ai_tf.process_pptx_files([dir])\n",
    "\n",
    "template = '''Please read the following passage and summarize the main ideas in a table format with a column for the main idea and a column describing the main idea.\n",
    "              \"{extract}\"'''\n",
    "\n",
    "prompt_for_llm = ChatPromptTemplate.from_messages({('system', template),})\n",
    "messages = prompt_for_llm.format_messages(extract = ppt_output)\n",
    "result = chat_model.invoke(messages)\n",
    "output = result.content"
   ]
  },
  {
   "cell_type": "code",
   "execution_count": 35,
   "metadata": {},
   "outputs": [
    {
     "data": {
      "text/html": [
       "<div>\n",
       "<style scoped>\n",
       "    .dataframe tbody tr th:only-of-type {\n",
       "        vertical-align: middle;\n",
       "    }\n",
       "\n",
       "    .dataframe tbody tr th {\n",
       "        vertical-align: top;\n",
       "    }\n",
       "\n",
       "    .dataframe thead th {\n",
       "        text-align: right;\n",
       "    }\n",
       "</style>\n",
       "<table border=\"1\" class=\"dataframe\">\n",
       "  <thead>\n",
       "    <tr style=\"text-align: right;\">\n",
       "      <th></th>\n",
       "      <th>Idea</th>\n",
       "      <th>Description</th>\n",
       "    </tr>\n",
       "  </thead>\n",
       "  <tbody>\n",
       "    <tr>\n",
       "      <th>0</th>\n",
       "      <td>Initial Purpose of the Data Steward (Roles &amp; D...</td>\n",
       "      <td>Data stewards are responsible for ensuring com...</td>\n",
       "    </tr>\n",
       "    <tr>\n",
       "      <th>1</th>\n",
       "      <td>Understanding the Data Steward Role</td>\n",
       "      <td>Data stewards enable accessibility, coherency,...</td>\n",
       "    </tr>\n",
       "    <tr>\n",
       "      <th>2</th>\n",
       "      <td>Common Shortcomings of the Data Steward</td>\n",
       "      <td>Challenges include improperly defining steward...</td>\n",
       "    </tr>\n",
       "    <tr>\n",
       "      <th>3</th>\n",
       "      <td>Keys to Successful Execution</td>\n",
       "      <td>Successful execution involves understanding th...</td>\n",
       "    </tr>\n",
       "    <tr>\n",
       "      <th>4</th>\n",
       "      <td>Using AI Capabilities to Scale Data Stewardshi...</td>\n",
       "      <td>AI capabilities can automate governance and qu...</td>\n",
       "    </tr>\n",
       "    <tr>\n",
       "      <th>5</th>\n",
       "      <td>Leveraging AI to Reduce the Labor Intensity</td>\n",
       "      <td>AI tools can consume code documentation, ERD d...</td>\n",
       "    </tr>\n",
       "    <tr>\n",
       "      <th>6</th>\n",
       "      <td>Building an AI-Data Steward Framework</td>\n",
       "      <td>Data stewardship frameworks must capture and o...</td>\n",
       "    </tr>\n",
       "  </tbody>\n",
       "</table>\n",
       "</div>"
      ],
      "text/plain": [
       "                                                Idea  \\\n",
       "0  Initial Purpose of the Data Steward (Roles & D...   \n",
       "1                Understanding the Data Steward Role   \n",
       "2            Common Shortcomings of the Data Steward   \n",
       "3                       Keys to Successful Execution   \n",
       "4  Using AI Capabilities to Scale Data Stewardshi...   \n",
       "5        Leveraging AI to Reduce the Labor Intensity   \n",
       "6              Building an AI-Data Steward Framework   \n",
       "\n",
       "                                         Description  \n",
       "0  Data stewards are responsible for ensuring com...  \n",
       "1  Data stewards enable accessibility, coherency,...  \n",
       "2  Challenges include improperly defining steward...  \n",
       "3  Successful execution involves understanding th...  \n",
       "4  AI capabilities can automate governance and qu...  \n",
       "5  AI tools can consume code documentation, ERD d...  \n",
       "6  Data stewardship frameworks must capture and o...  "
      ]
     },
     "metadata": {},
     "output_type": "display_data"
    }
   ],
   "source": [
    "import pandas as pd\n",
    "\n",
    "result_from_llm = output.split(\"\\n\")[1:]\n",
    "\n",
    "table = []\n",
    "for rfl in result_from_llm:\n",
    "    tmp = rfl.split(\"\\t\")\n",
    "    tmp = pd.DataFrame({'Idea':[tmp[0]], 'Description':[tmp[1]]})\n",
    "    table.append(tmp)\n",
    "\n",
    "table = pd.concat(table, ignore_index=True)\n",
    "display(table)\n"
   ]
  },
  {
   "cell_type": "code",
   "execution_count": 10,
   "metadata": {},
   "outputs": [
    {
     "name": "stdout",
     "output_type": "stream",
     "text": [
      "content='Hello! How can I assist you today?'\n"
     ]
    }
   ],
   "source": [
    "chat_model = ChatOpenAI(openai_api_key=api_key)\n",
    "result = chat_model.invoke(\"hi!\")\n",
    "print(result)"
   ]
  },
  {
   "cell_type": "code",
   "execution_count": null,
   "metadata": {},
   "outputs": [],
   "source": []
  },
  {
   "cell_type": "code",
   "execution_count": null,
   "metadata": {},
   "outputs": [],
   "source": [
    "dir = \"C:/Users/nicho/Downloads/ReturnCorrectionNotice.pdf\"\n",
    "\n",
    "from pypdf import PdfReader\n",
    "\n",
    "reader = PdfReader(dir)\n",
    "text = \"\"\n",
    "for page in reader.pages:\n",
    "    text += page.extract_text() + \"\\n\"\n",
    "\n",
    "print(text)"
   ]
  }
 ],
 "metadata": {
  "kernelspec": {
   "display_name": "Python 3",
   "language": "python",
   "name": "python3"
  },
  "language_info": {
   "codemirror_mode": {
    "name": "ipython",
    "version": 3
   },
   "file_extension": ".py",
   "mimetype": "text/x-python",
   "name": "python",
   "nbconvert_exporter": "python",
   "pygments_lexer": "ipython3",
   "version": "3.12.1"
  }
 },
 "nbformat": 4,
 "nbformat_minor": 2
}
